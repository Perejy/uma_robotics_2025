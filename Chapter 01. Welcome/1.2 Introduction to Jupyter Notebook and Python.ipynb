{
 "cells": [
  {
   "cell_type": "markdown",
   "metadata": {},
   "source": [
    "<center><img src=\"./images/dall-e_course_logo.png\" width=\"500\"></center>\n",
    "\n",
    "\n",
    "# Introduction to Jupyter Notebook and Python\n",
    "\n",
    "This interactive robotics book has been written by means of the **Jupyter Lab** framework, which allows us to design documents (also called **jupyter notebooks**, or just **notebooks**) that combine the typical elements in a book (text, equations, figures, etc.) and multimedia resources like videos or audios with code cells that can be edited and executed. That is, such notebooks mix explanations and interactive code, all in the same way. \n",
    "\n",
    "## Jupyter notebooks\n",
    "\n",
    "Jupyter notebooks are divided in **cells** that can be executed by pressing <kbd>Ctrl</kbd> + <kbd>Enter</kbd>. There are two main types of cells:\n",
    "- **Markdown cells** (like this one) used for writing text and adding media elements (more info about markdown here [introduction](https://www.markdownguide.org/getting-started) or here [cheatsheet](https://github.com/adam-p/markdown-here/wiki/Markdown-Cheatsheet)), and \n",
    "- **Code/Python cells** (like the one below) which content is considered as executable code that can produce a result displayed below the cell."
   ]
  },
  {
   "cell_type": "code",
   "execution_count": 1,
   "metadata": {},
   "outputs": [
    {
     "name": "stdout",
     "output_type": "stream",
     "text": [
      "Number of permutations: 20\n"
     ]
    }
   ],
   "source": [
    "# This is a Code cell written in Python!\n",
    "from scipy.special import perm # From the library scipy and its module scipy.special we are importing the function perm\n",
    "#find permutation of 5, 2 using perm (N, k) function\n",
    "per = perm(5, 2, exact = True) # The result is saved into per\n",
    "print(\"Number of permutations: \" + str(per)) # And finally we print the content of said variable"
   ]
  },
  {
   "cell_type": "markdown",
   "metadata": {},
   "source": [
    " \n",
    "In this way, the notebooks provided in this book have a number of markdown cells including theory, pictures, ecuations, etc., as well as code cells with parts to be completed by the students. Usually the `None` keyword is used to mark the places where the student has to introduce some code. \n",
    "\n",
    "Jupyter notebooks are so cool so you can also include widgets, as the slider shown below."
   ]
  },
  {
   "cell_type": "code",
   "execution_count": 1,
   "metadata": {},
   "outputs": [
    {
     "data": {
      "application/vnd.jupyter.widget-view+json": {
       "model_id": "c7d698075b1b4048be033cf8a766eeb1",
       "version_major": 2,
       "version_minor": 0
      },
      "text/plain": [
       "IntSlider(value=7, description='Slider:', max=10)"
      ]
     },
     "execution_count": 1,
     "metadata": {},
     "output_type": "execute_result"
    }
   ],
   "source": [
    "import ipywidgets as widgets\n",
    "\n",
    "# Slider widget example\n",
    "widgets.IntSlider(value=7, min=0, max=10, step=1, description='Slider:')"
   ]
  },
  {
   "cell_type": "markdown",
   "metadata": {
    "tags": []
   },
   "source": [
    "### Practical notes\n",
    "\n",
    "* If you feel stuck and you need to **debug** the code, there are two options that you can try:\n",
    "\n",
    "  1. Using **JupyterLab**, enable the debugger (bug icon at the top-right part of the interface). Then you can place breakpoints, check the type and content of variables, etc.\n",
    "  2. Use a different **debugging** tool, there is a way to convert a notebook into a normal python script.\n",
    "      - Whithin the editor in File > Save as... > Python \n",
    "      - On the command line use the following: `jupyter nbconvert --to script YYY.ipynb` to convert whatever notebook you like.\n",
    "    Then you can debug it normally using an editor/IDE like **Visual Studio Code**, **Spyder** or **PyCharm**.\n",
    "  \n",
    "* In the case some visualization is bugged or doesn't display properly, there is a chance that `Restart Kernel and Run all Cells` could fix it."
   ]
  },
  {
   "cell_type": "markdown",
   "metadata": {
    "id": "UqcA65nOcuYy"
   },
   "source": [
    "# 1 Python Basics\n",
    "\n",
    "In this section, we will cover the fundamental concepts of Python programming. These basics form the foundation of more complex robotics algorithms you'll encounter later in this course. Let's start with the simplest program in Python.\n"
   ]
  },
  {
   "cell_type": "markdown",
   "metadata": {
    "id": "KGHbOQBlhheO"
   },
   "source": [
    "## 1.1 Hello World & Comments\n",
    "\n",
    "The traditional first program in any programming language is a simple output that says \"Hello, World!\". In Python, this is achieved using the `print()` function. Comments in Python start with a `#` and are used to explain what a section of code does."
   ]
  },
  {
   "cell_type": "code",
   "execution_count": null,
   "metadata": {
    "id": "v1-dhm7ccim5"
   },
   "outputs": [],
   "source": [
    "# This is a comment - it's for humans to read and isn't executed by Python.\n",
    "print(\"Hello, World!\")"
   ]
  },
  {
   "cell_type": "markdown",
   "metadata": {
    "id": "x7bllfEZeNsl"
   },
   "source": [
    "## 1.2 Variables in Python\n",
    "\n",
    "Variables are essential in any programming language. They allow you to store data that can be used and manipulated throughout your program. In Python, creating a variable is straightforward – you simply assign a value to a name.\n"
   ]
  },
  {
   "cell_type": "markdown",
   "metadata": {
    "id": "4e6hFl86f-Sr"
   },
   "source": [
    "### Data Types\n",
    "\n",
    "Python supports various data types, including integers (int), floating-point numbers (float), strings (str), and booleans (bool). Understanding these basic data types is crucial for robotics programming, as they enable you to work with numerical data, text, and logical values.\n"
   ]
  },
  {
   "cell_type": "code",
   "execution_count": null,
   "metadata": {
    "id": "EVbCaWJZgGpq"
   },
   "outputs": [],
   "source": [
    "# Integer variable\n",
    "wheel_count = 4\n",
    "\n",
    "# Floating-point variable\n",
    "max_speed = 3.5  # Maximum speed in meters per second\n",
    "\n",
    "# String variable\n",
    "robot_name = \"R2-D2\"\n",
    "\n",
    "# Boolean variable\n",
    "is_autonomous = True\n",
    "\n",
    "# Display variable values\n",
    "print(\"Wheel Count:\", wheel_count)\n",
    "print(\"Maximum Speed:\", max_speed, \"m/s\")\n",
    "print(\"Robot Name:\", robot_name)\n",
    "print(\"Is Autonomous:\", is_autonomous)\n"
   ]
  },
  {
   "cell_type": "markdown",
   "metadata": {
    "id": "YX2CVQzPgKdJ"
   },
   "source": [
    "### Dynamic Typing\n",
    "\n",
    "Python is dynamically typed, which means you don't need to declare the type of a variable when you create one. The type is inferred from the value it is assigned. Let's see an example.\n"
   ]
  },
  {
   "cell_type": "code",
   "execution_count": null,
   "metadata": {
    "id": "JlhB2hHogPth"
   },
   "outputs": [],
   "source": [
    "# Dynamic typing example\n",
    "battery_level = 100  # Initially an integer\n",
    "print(\"Battery level is an\", type(battery_level))\n",
    "\n",
    "battery_level = 99.9  # Now becomes a float\n",
    "print(\"Now, the battery level is a\", type(battery_level))"
   ]
  },
  {
   "cell_type": "markdown",
   "metadata": {
    "id": "o4r1E9hng-Ag"
   },
   "source": [
    "## **<span style=\"color:green\"><b><i>ASSIGNMENT 1: Creating a Robot Introduction Card</i></b></span>**\n",
    "\n",
    "Imagine you are programming a robot for a public demonstration. Your task is to create a simple \"Introduction Card\" for your robot using Python. This card will display basic information about the robot to the audience.\n",
    "\n",
    "**Requirements:**\n",
    "\n",
    "1. Define four variables:\n",
    "   - `robot_name`: A string variable for the robot's name.\n",
    "   - `robot_type`: A string variable for the type of the robot (e.g., \"Explorer\", \"Delivery\").\n",
    "   - `max_speed`: An integer or float variable for the robot's maximum speed in meters per second.\n",
    "   - `battery_duration`: An integer variable for the robot's battery duration in hours.\n",
    "2. Use the `print()` function to display this information in a friendly format.\n",
    "\n",
    "**Example Output:**\n",
    "\n",
    "```\n",
    "Hello! My name is Robo1.\n",
    "I am an Explorer robot.\n",
    "I can move at a maximum speed of 3 meters per second.\n",
    "My battery lasts for 5 hours.\n",
    "```\n",
    "\n",
    "Try to use string formatting for a cleaner output. Feel free to get creative with the robot's name, type, and specifications!\n"
   ]
  },
  {
   "cell_type": "code",
   "execution_count": null,
   "metadata": {
    "id": "d1WU6Y5uhI4_"
   },
   "outputs": [],
   "source": [
    "# Your code here!"
   ]
  },
  {
   "cell_type": "markdown",
   "metadata": {
    "id": "LqHascaQDz_a"
   },
   "source": [
    "## Quiz 1: Python Basics\n",
    "\n",
    "1. What function is used to print something to the console in Python?\n",
    "   - A) `print()`\n",
    "   - B) `console.log()`\n",
    "   - C) `echo()`\n",
    "   - D) `write()`\n",
    "\n",
    "2. Which of the following is the correct way to declare a variable in Python?\n",
    "   - A) `var name = \"Robot\"`\n",
    "   - B) `String name = \"Robot\"`\n",
    "   - C) `name: \"Robot\"`\n",
    "   - D) `name = \"Robot\"`\n",
    "\n",
    "Please put a cross like this (X) side to your choice.\n"
   ]
  },
  {
   "cell_type": "markdown",
   "metadata": {
    "id": "1E9z8fyRhchX"
   },
   "source": [
    "# 2 Control Structures\n",
    "\n",
    "Control structures allow us to alter the flow of execution in a program based on conditions or by iterating over collections of data. In robotics, this can mean making decisions based on sensor data or executing a task repeatedly. We'll start with conditional statements, then explore loops.\n"
   ]
  },
  {
   "cell_type": "markdown",
   "metadata": {
    "id": "ABUuE6nXhk_v"
   },
   "source": [
    "## 2.1  Conditional Statements\n",
    "\n",
    "Conditional statements (`if`, `elif`, `else`) let your program execute different blocks of code based on certain conditions. This is crucial in robotics for decision-making, like adjusting behavior based on battery level or sensor inputs.\n"
   ]
  },
  {
   "cell_type": "code",
   "execution_count": null,
   "metadata": {
    "id": "GuNe6alfhzQE"
   },
   "outputs": [],
   "source": [
    "# Example of a conditional statement\n",
    "battery_level = 25\n",
    "\n",
    "if battery_level > 20:\n",
    "    print(\"Continuing operation.\")\n",
    "else:\n",
    "    print(\"Low battery! Returning to base for recharge.\")\n",
    "\n",
    "# Adjust the battery_level variable and rerun to see different outcomes."
   ]
  },
  {
   "cell_type": "markdown",
   "metadata": {
    "id": "ALNeo8sShvYQ"
   },
   "source": [
    "## 2.2  Loops\n",
    "\n",
    "Loops are used to repeat a block of code multiple times. Python provides `for` loops and `while` loops. In robotics, loops can be used for tasks such as navigating a predefined path or continuously monitoring sensor data.\n"
   ]
  },
  {
   "cell_type": "code",
   "execution_count": null,
   "metadata": {
    "id": "0P9hFo_hhuuX"
   },
   "outputs": [],
   "source": [
    "# Example of a for loop\n",
    "for step in range(4):\n",
    "    print(f\"Moving step {step+1} in a square pattern\")\n",
    "\n",
    "# This simulates moving in a square pattern, one step at a time."
   ]
  },
  {
   "cell_type": "code",
   "execution_count": null,
   "metadata": {
    "id": "7F7AxTgCiClu"
   },
   "outputs": [],
   "source": [
    "# Example of a while loop\n",
    "battery_level = 100\n",
    "while battery_level > 20:\n",
    "    print(f\"Operating with battery level at {battery_level}%\")\n",
    "    battery_level -= 15  # Simulate battery drain\n",
    "\n",
    "print(\"Battery low! Returning to base for recharge.\")\n"
   ]
  },
  {
   "cell_type": "markdown",
   "metadata": {
    "id": "EBfyCHRjiO4c"
   },
   "source": [
    "## **<span style=\"color:green\"><b><i>ASSIGNMENT 2: Implementing Decision-Making</i></b></span>**\n",
    "\n",
    "Imagine you're programming a robot to navigate through a field with obstacles. Your task is to write a simple decision-making process using conditional statements.\n",
    "\n",
    "**Scenario:**\n",
    "\n",
    "- If the robot encounters a small obstacle, it should go around it.\n",
    "- If the obstacle is large, the robot should turn back.\n",
    "- If there are no obstacles, the robot should continue moving forward.\n",
    "\n",
    "**Instructions:**\n",
    "\n",
    "1. Define a variable `obstacle_size` with possible values \"small\", \"large\", or \"none\".\n",
    "2. Use conditional statements to print the robot's action based on the obstacle size.\n",
    "\n",
    "**Example Output:**\n",
    "\n",
    "```\n",
    "Encountered a small obstacle, going around it.\n",
    "```"
   ]
  },
  {
   "cell_type": "code",
   "execution_count": null,
   "metadata": {
    "id": "iepMmxudinut"
   },
   "outputs": [],
   "source": [
    "# Your code here"
   ]
  },
  {
   "cell_type": "markdown",
   "metadata": {
    "id": "2LLJewDcECWS"
   },
   "source": [
    "## Quiz 2: Control Structures\n",
    "\n",
    "1. Which Python keyword is used to create a conditional statement?\n",
    "   - A) `if`\n",
    "   - B) `for`\n",
    "   - C) `while`\n",
    "   - D) `elif`\n",
    "\n",
    "2. What will be the output of the following code snippet?\n",
    "```python\n",
    "x = 5\n",
    "if x > 10:\n",
    "    print(\"x is greater than 10.\")\n",
    "elif x > 5:\n",
    "    print(\"x is greater than 5.\")\n",
    "else:\n",
    "    print(\"x is 5 or less.\")\n",
    "```\n",
    "  - A) x is greater than 10.\n",
    "  - B) x is greater than 5.\n",
    "  - C) x is 5 or less.\n",
    "  - D) No output\n",
    "\n",
    "Please put a cross like this (X) side to your choice."
   ]
  },
  {
   "cell_type": "markdown",
   "metadata": {
    "id": "DGnRGpe1jpX2"
   },
   "source": [
    "# 3 Functions\n",
    "\n",
    "Functions are reusable blocks of code that perform a specific task. By defining functions, you can organize your code better, reuse code, and make your programs more readable. In robotics, functions can be used to encapsulate tasks like calculating distances, processing sensor data, or controlling actuators.\n"
   ]
  },
  {
   "cell_type": "markdown",
   "metadata": {
    "id": "4R0-4t3vj3gr"
   },
   "source": [
    "## 3.1 Defining and Calling Functions\n",
    "\n",
    "To define a function in Python, use the `def` keyword, followed by the function name and parentheses `()`. If your function needs to receive input, you can add parameters within these parentheses. Functions can also return values using the `return` statement.\n",
    "\n"
   ]
  },
  {
   "cell_type": "markdown",
   "metadata": {
    "id": "oUXY_00XkByG"
   },
   "source": [
    "## 3.2 Parameters and Return Values\n",
    "\n",
    "Parameters allow you to pass data to a function, and the return value allows you to get data back from a function. This makes your functions flexible and reusable in different contexts."
   ]
  },
  {
   "cell_type": "code",
   "execution_count": null,
   "metadata": {
    "id": "MwVKmPfekHBZ"
   },
   "outputs": [],
   "source": [
    "# Function to calculate distance based on speed and time\n",
    "def calculate_distance(speed, time):\n",
    "    \"\"\"\n",
    "    Calculates distance traveled in a given time at a constant speed.\n",
    "\n",
    "    Parameters:\n",
    "    speed (float): Speed in meters per second.\n",
    "    time (float): Time in seconds.\n",
    "\n",
    "    Returns:\n",
    "    float: Distance in meters.\n",
    "    \"\"\"\n",
    "    distance = speed * time\n",
    "    return distance\n",
    "\n",
    "# Example usage of the function\n",
    "speed = 2.5  # Speed in meters per second\n",
    "time = 10  # Time in seconds\n",
    "distance = calculate_distance(speed, time)\n",
    "print(f\"The distance traveled is {distance} meters.\")\n"
   ]
  },
  {
   "cell_type": "markdown",
   "metadata": {
    "id": "GH0QtaQLkQxA"
   },
   "source": [
    "## **<span style=\"color:green\"><b><i>ASSIGNMENT 3: Implement a Function for Robot Movement</i></b></span>**\n",
    "\n",
    "Imagine you're programming a robot for a simple task: turning to face a new direction. The robot can turn at a fixed speed, and you need to calculate how long the turn will take based on the desired angle.\n",
    "\n",
    "**Task:**\n",
    "\n",
    "Write a function `calculate_turn_time` that calculates the time it takes for the robot to turn a specific angle.\n",
    "\n",
    "**Instructions:**\n",
    "\n",
    "- The function should take two parameters: `angle` (the angle to turn, in degrees) and `turn_speed` (the turning speed of the robot, in degrees per second).\n",
    "- The function should return the time (in seconds) required to complete the turn.\n",
    "- Use the formula `time = angle / turn_speed`.\n",
    "\n",
    "***Example Usage:***\n",
    "\n",
    "```python\n",
    "turn_speed = 90  # degrees per second\n",
    "angle = 180  # degrees\n",
    "print(f\"Time to turn {angle} degrees at {turn_speed} degrees per second: {calculate_turn_time(angle, turn_speed)} seconds.\")\n",
    "```\n",
    "**Expected Output:**\n",
    "```\n",
    "Time to turn 180 degrees at 90 degrees per second: 2 seconds.\n",
    "```\n"
   ]
  },
  {
   "cell_type": "code",
   "execution_count": null,
   "metadata": {
    "id": "_60nWkVMkn9P"
   },
   "outputs": [],
   "source": [
    "# Your code here"
   ]
  },
  {
   "cell_type": "markdown",
   "metadata": {
    "id": "Wu3OmRTkk-1E"
   },
   "source": [
    "\n",
    "## Quiz 3: Functions\n",
    "\n",
    "1. How do you define a function in Python?\n",
    "   - A) `function myFunc():`\n",
    "   - B) `def myFunc():`\n",
    "   - C) `create myFunc():`\n",
    "   - D) `myFunc() =>:`\n",
    "\n",
    "2. What keyword is used to return a value from a function in Python?\n",
    "   - A) `return`\n",
    "   - B) `yield`\n",
    "   - C) `get`\n",
    "   - D) `output`\n",
    "\n",
    "Please put a cross like this (X) side to your choice.\n"
   ]
  },
  {
   "cell_type": "markdown",
   "metadata": {
    "id": "W3H-UB9ckqGF"
   },
   "source": [
    "# 4 Data Structures\n",
    "\n",
    "Data structures are essential for storing, organizing, and managing data in programming. Python offers various built-in data structures like lists, tuples, and dictionaries, each with its unique properties and use cases. In robotics, these structures can be used to store sensor data, robot states, waypoints, and more.\n"
   ]
  },
  {
   "cell_type": "markdown",
   "metadata": {
    "id": "f9lwI-_llQvC"
   },
   "source": [
    "## 4.1 Lists and Tuples\n",
    "\n",
    "Lists and tuples are Python's basic data structures for storing collections of items. Lists are mutable, meaning you can change their content. Tuples are immutable, meaning once created, their content cannot be changed. Both are useful for handling ordered data.\n"
   ]
  },
  {
   "cell_type": "code",
   "execution_count": null,
   "metadata": {
    "id": "uu54N235lUzK"
   },
   "outputs": [],
   "source": [
    "# Example of a list of tuples\n",
    "waypoints = [(0, 0), (1, 2), (2, 3)]  # Each waypoint is a tuple representing (x, y) coordinates\n",
    "\n",
    "# Adding a new waypoint\n",
    "waypoints.append((3, 5))\n",
    "\n",
    "# Accessing a waypoint\n",
    "print(\"First waypoint:\", waypoints[0])\n",
    "\n",
    "# Iterating over waypoints\n",
    "for waypoint in waypoints:\n",
    "    print(\"Waypoint:\", waypoint)\n"
   ]
  },
  {
   "cell_type": "code",
   "execution_count": null,
   "metadata": {
    "id": "2Csu_aJplhFq"
   },
   "outputs": [],
   "source": [
    "# Example of a tuple\n",
    "robot_position = (5, 7)  # (x, y) coordinates\n",
    "\n",
    "# Tuples are immutable, so you cannot change an existing position\n",
    "# Instead, you assign a new tuple\n",
    "robot_position = (6, 8)\n",
    "\n",
    "print(\"New robot position:\", robot_position)\n"
   ]
  },
  {
   "cell_type": "markdown",
   "metadata": {
    "id": "dFFR_BvQln0K"
   },
   "source": [
    "## 4.2 Dictionaries\n",
    "\n",
    "Dictionaries in Python are collections of key-value pairs. They are mutable and indexed by keys, making them ideal for storing data that can be easily retrieved by a unique identifier, such as robot attributes or configuration settings.\n"
   ]
  },
  {
   "cell_type": "code",
   "execution_count": null,
   "metadata": {
    "id": "mXE3aHerlwEU"
   },
   "outputs": [],
   "source": [
    "# Example of a dictionary\n",
    "robot_attributes = {\n",
    "    'name': 'Robo1',\n",
    "    'type': 'Explorer',\n",
    "    'battery_life': 100,  # Battery life in percentage\n",
    "}\n",
    "\n",
    "# Adding a new key-value pair\n",
    "robot_attributes['speed'] = 5  # Speed in meters per second\n",
    "\n",
    "# Accessing a value\n",
    "print(\"Robot Type:\", robot_attributes['type'])\n",
    "\n",
    "# Iterating over a dictionary\n",
    "for key, value in robot_attributes.items():\n",
    "    print(f\"{key}: {value}\")\n"
   ]
  },
  {
   "cell_type": "markdown",
   "metadata": {
    "id": "lB0tk4gll2fw"
   },
   "source": [
    "## **<span style=\"color:green\"><b><i>ASSIGNMENT 4: Organizing Robot Sensor Data</i></b></span>**\n",
    "\n",
    "For this exercise, imagine you're collecting sensor data from a robot. This data includes temperature readings, distance measurements, and battery levels over time.\n",
    "\n",
    "**Task:**\n",
    "\n",
    "1. Store a series of temperature readings as a list.\n",
    "2. Store a series of distance measurements as a list. Each measurement in the list should be a tuple representing (time, distance), e.g., (1,25),(2,27). Units could be seconds and meters, for example.\n",
    "3. Store a series of battery level readings in a list, each representing the battery level at a different time.\n",
    "4. Use a dictionary to organize the sensor data, with keys for each type of data (temperature, distance and battery) and the lists as values.\n",
    "\n",
    "The length of the lists could be, for example, of 5 elements.\n",
    "\n",
    "**Instructions:**\n",
    "\n",
    "- Print the dictionary to show all sensor data organized.\n",
    "- Calculate and print the average temperature from the temperature readings. *Hint: use the `sum()` and `len()` functions*.\n",
    "- Find and print the minimum battery level from the battery level readings.  *Hint: use the `min()` function*.\n"
   ]
  },
  {
   "cell_type": "code",
   "execution_count": null,
   "metadata": {
    "id": "ZI_0iq3Mn0dZ"
   },
   "outputs": [],
   "source": [
    "# Your code here!"
   ]
  },
  {
   "cell_type": "markdown",
   "metadata": {
    "id": "XpwqRFdsE81I"
   },
   "source": [
    "## Quiz 4: Data Structures\n",
    "\n",
    "1. Which Python data structure is mutable?\n",
    "   - A) `Tuple`\n",
    "   - B) `List`\n",
    "   - C) `String`\n",
    "   - D) All of the above\n",
    "\n",
    "2. How do you access the value associated with the key 'speed' in a dictionary named `robot`?\n",
    "   - A) `robot(speed)`\n",
    "   - B) `robot['speed']`\n",
    "   - C) `robot.speed`\n",
    "   - D) `robot->speed`\n",
    "\n",
    "Please put a cross like this (X) side to your choice.\n"
   ]
  },
  {
   "cell_type": "markdown",
   "metadata": {
    "id": "Pn5Aor_NordY"
   },
   "source": [
    "# 5 Object-Oriented Programming (OOP)\n",
    "\n",
    "Object-Oriented Programming (OOP) is a programming paradigm that uses objects and classes to organize code. It's particularly useful in robotics for modeling complex systems and behaviors. OOP concepts like inheritance, encapsulation, and polymorphism allow for creating flexible and reusable code.\n"
   ]
  },
  {
   "cell_type": "markdown",
   "metadata": {
    "id": "xbu1ojGco2Jn"
   },
   "source": [
    "## 5.1 Classes and Objects\n",
    "\n",
    "In Python, a class is a blueprint for creating objects. An object represents an instance of a class, with its own attributes and methods. This is useful in robotics to model robots with specific characteristics and behaviors."
   ]
  },
  {
   "cell_type": "code",
   "execution_count": null,
   "metadata": {
    "id": "QhT8XAmho9LT"
   },
   "outputs": [],
   "source": [
    "class Robot:\n",
    "    def __init__(self, name, speed):\n",
    "        self.name = name\n",
    "        self.speed = speed\n",
    "\n",
    "    def move(self):\n",
    "        print(f\"{self.name} is moving at {self.speed} meters per second.\")\n",
    "\n",
    "    def stop(self):\n",
    "        print(f\"{self.name} has stopped.\")\n"
   ]
  },
  {
   "cell_type": "code",
   "execution_count": null,
   "metadata": {
    "id": "d-XJ4WVpoyqV"
   },
   "outputs": [],
   "source": [
    "# Creating an instance of the Robot class\n",
    "my_robot = Robot(\"Robo1\", 2)\n",
    "my_robot.move()\n",
    "my_robot.stop()\n"
   ]
  },
  {
   "cell_type": "markdown",
   "metadata": {
    "id": "5lWqTWzVpIjT"
   },
   "source": [
    "## 5.2 Inheritance\n",
    "\n",
    "Inheritance allows a class to inherit attributes and methods from another class. This is useful, for example, for creating specialized robot types based on a general robot class, enabling code reuse and reducing redundancy.\n"
   ]
  },
  {
   "cell_type": "code",
   "execution_count": null,
   "metadata": {
    "id": "7nxyfOgbpRy-"
   },
   "outputs": [],
   "source": [
    "class ExplorerRobot(Robot):\n",
    "    def __init__(self, name, speed, exploration_range):\n",
    "        super().__init__(name, speed)\n",
    "        self.exploration_range = exploration_range\n",
    "\n",
    "    def move(self):\n",
    "        print(f\"{self.name} is moving at {self.speed} meters per second. You can start exploring!\")\n",
    "\n",
    "    def explore(self):\n",
    "        print(f\"{self.name} is exploring within {self.exploration_range} meters.\")\n",
    "\n",
    "# Creating an instance (an object) of ExplorerRobot\n",
    "explorer = ExplorerRobot(\"Explorer1\", 1.5, 100)\n",
    "explorer.move()\n",
    "explorer.explore()\n"
   ]
  },
  {
   "cell_type": "markdown",
   "metadata": {
    "id": "8XenZ2D7pbIo"
   },
   "source": [
    "## 5.3 Encapsulation\n",
    "\n",
    "Encapsulation is a core concept in object-oriented programming (OOP) that involves bundling the data (attributes) and methods (behaviors) that operate on the data into a single unit, known as a class. It also includes restricting access to some of an object’s components, ensuring that an object's internal state cannot be altered directly from outside its defining class, but only through a well-defined interface (methods). This approach helps safeguard against unauthorized access and modifications, promoting greater security and data integrity within software applications.\n",
    "\n",
    "**Why Use Encapsulation?**\n",
    "\n",
    "- To control how data is accessed or modified: By providing methods (getters and setters) to access or change attribute values, you can validate data before it's assigned to an attribute, ensuring that your objects always remain in a valid state.\n",
    "- To make the code more maintainable and flexible: Encapsulation allows you to change how an attribute is implemented without affecting the rest of your codebase, as long as the interface (getters and setters) remains the same.\n",
    "\n",
    "### Getters and Setters\n",
    "\n",
    "- **Getters** are methods used to access the value of an attribute without exposing the attribute itself. This allows you to add logic to the process of retrieving the value, such as formatting output or calculating a value on the fly.\n",
    "- **Setters** are methods used to set the value of an attribute. They allow you to validate or modify the data before it's saved, ensuring the object maintains a valid state.\n",
    "\n",
    "Python provides a convenient way to implement getters and setters using property decorators. Let's enhance the `Robot` class from the robot simulation exercise with getters and setters for the `name` and `speed` attributes to demonstrate encapsulation."
   ]
  },
  {
   "cell_type": "code",
   "execution_count": null,
   "metadata": {
    "id": "kl7pZKbirlnV"
   },
   "outputs": [],
   "source": [
    "class Robot:\n",
    "    def __init__(self, name, speed):\n",
    "        self._name = name  # The underscore prefix indicates a protected member variable\n",
    "        self._speed = speed\n",
    "\n",
    "    @property\n",
    "    def name(self):\n",
    "        \"\"\"Getter for name\"\"\"\n",
    "        return self._name\n",
    "\n",
    "    @name.setter\n",
    "    def name(self, value):\n",
    "        \"\"\"Setter for name\"\"\"\n",
    "        # Here, you could add validation logic\n",
    "        self._name = value\n",
    "\n",
    "    @property\n",
    "    def speed(self):\n",
    "        \"\"\"Getter for speed\"\"\"\n",
    "        return self._speed\n",
    "\n",
    "    @speed.setter\n",
    "    def speed(self, value):\n",
    "        \"\"\"Setter for speed\"\"\"\n",
    "        # Validation logic could go here\n",
    "        self._speed = value\n"
   ]
  },
  {
   "cell_type": "markdown",
   "metadata": {
    "id": "2dZBH0-0rrTg"
   },
   "source": [
    "This approach allows you to encapsulate the `name` and `speed` attributes, ensuring that any access or modifications go through these methods, where you can add additional logic such as validation or transformation.\n",
    "\n",
    "By applying getters and setters, you ensure that the internal representation of an object's state is hidden from the outside, only exposing a controlled interface to the outside world. This is a core principle of encapsulation in OOP."
   ]
  },
  {
   "cell_type": "markdown",
   "metadata": {
    "id": "r6k5PQr9rB_Y"
   },
   "source": [
    "## 5.4 Polymorphism\n",
    "\n",
    "Polymorphism allows objects of different classes to be treated as objects of a common superclass. It is derived from the Greek words \"poly\" (meaning many) and \"morph\" (meaning form or shape), indicating the ability of one interface to take on many forms. In the context of programming, polymorphism enables a single function or method to operate in different ways depending on the object it is acting upon, or to work with objects of different classes as if they were objects of a single class."
   ]
  },
  {
   "cell_type": "markdown",
   "metadata": {
    "id": "sEXnzCUUA7ls"
   },
   "source": [
    "Now, let's introduce an ExplorerRobot class that also overrides the move method but with functionality specific to exploration:"
   ]
  },
  {
   "cell_type": "code",
   "execution_count": null,
   "metadata": {
    "id": "40epKCtPpjgh"
   },
   "outputs": [],
   "source": [
    "class DeliveryRobot(Robot):\n",
    "    def __init__(self, name, speed, load_capacity):\n",
    "        super().__init__(name, speed)\n",
    "        self.load_capacity = load_capacity\n",
    "\n",
    "    # Polymorphism: overriding the move method\n",
    "    def move(self):\n",
    "        print(f\"{self.name} is delivering a package at {self.speed} meters per second.\")\n",
    "\n",
    "# Creating an instance of DeliveryRobot\n",
    "delivery_robot = DeliveryRobot(\"Deliverer1\", 2, 50)\n",
    "delivery_robot.move()\n"
   ]
  },
  {
   "cell_type": "markdown",
   "metadata": {
    "id": "5xcUJ9nEA3v8"
   },
   "source": [
    "Now, we can create instances of both DeliveryRobot and ExplorerRobot, and demonstrate how the move method can be called on each, showcasing polymorphism:"
   ]
  },
  {
   "cell_type": "code",
   "execution_count": null,
   "metadata": {
    "id": "RNEnmk3EAb97"
   },
   "outputs": [],
   "source": [
    "# Creating instances of DeliveryRobot and ExplorerRobot\n",
    "delivery_robot = DeliveryRobot(\"Deliverer1\", 2, 50)\n",
    "explorer_robot = ExplorerRobot(\"Explorer1\", 3, 100)\n",
    "\n",
    "# Calling the move method on both robots\n",
    "delivery_robot.move()  # Outputs: Deliverer1 is delivering a package at 2 meters per second.\n",
    "explorer_robot.move()  # Outputs: Explorer1 is exploring an area within 100 meters.\n",
    "\n",
    "# Function to demonstrate polymorphism\n",
    "def robot_action(robot):\n",
    "    robot.move()\n",
    "\n",
    "# Demonstrating polymorphism\n",
    "robot_action(delivery_robot)\n",
    "robot_action(explorer_robot)"
   ]
  },
  {
   "cell_type": "markdown",
   "metadata": {
    "id": "s2KnoTL5AzYH"
   },
   "source": [
    "This example clearly shows polymorphism in action within a robotics context. Both DeliveryRobot and ExplorerRobot are subclasses of Robot and each provides its own implementation of the move method. When we call move on instances of these classes, the specific implementation is executed, showcasing how the same method name can result in different behaviors based on the object's class. This ability to process objects differently depending on their class type is the essence of polymorphism in OOP."
   ]
  },
  {
   "cell_type": "markdown",
   "metadata": {
    "id": "LqrIZf9qpsvL"
   },
   "source": [
    "## **<span style=\"color:green\"><b><i>ASSIGNMENT 5: Organizing Robot Sensor Data</i></b></span>**\n",
    "\n",
    "For this exercise, you will design and implement a simple simulation involving different types of robots using the OOP principles you've learned.\n",
    "\n",
    "**Task:**\n",
    "\n",
    "1. Create a base class `Robot` with basic attributes like `name` and `speed`, and methods `move()` and `stop()`.\n",
    "2. Extend the `Robot` class to create two specialized robots: `ExplorerRobot` and `DeliveryRobot`. Add at least one unique attribute and one unique method to each subclass.\n",
    "3. Demonstrate encapsulation by using getters and setters for one of the attributes in your `Robot` class.\n",
    "4. Implement polymorphism by overriding a method in one of your subclasses.\n",
    "\n",
    "**Instructions**\n",
    "\n",
    "- Use the provided class definitions as a starting point.\n",
    "- Think about how each robot type might differ in attributes and behavior.\n",
    "- Implement your simulation by creating instances of each robot type and calling their methods.\n",
    "\n",
    "### Example Output:\n",
    "\n",
    "```\n",
    "Robo1 is moving at 2 meters per second.\n",
    "Robo1 has stopped.\n",
    "Explorer1 is exploring within 100 meters.\n",
    "Deliverer1 is delivering a package at 2 meters per second.\n",
    "```"
   ]
  },
  {
   "cell_type": "code",
   "execution_count": null,
   "metadata": {
    "id": "vwP3XuS4MWOs"
   },
   "outputs": [],
   "source": [
    "# Your code here!"
   ]
  },
  {
   "cell_type": "markdown",
   "metadata": {
    "id": "GtruSH1jFLPg"
   },
   "source": [
    "## Quiz 5: Object-Oriented Programming (OOP)\n",
    "\n",
    "1. Which of the following is a principle of OOP?\n",
    "   - A) Encapsulation\n",
    "   - B) Inheritance\n",
    "   - C) Polymorphism\n",
    "   - D) All of the above\n",
    "\n",
    "2. In Python, how do you specify that `ClassB` should inherit from `ClassA`?\n",
    "   - A) `class ClassB(ClassA):`\n",
    "   - B) `class ClassB inherit ClassA:`\n",
    "   - C) `class ClassB extends ClassA:`\n",
    "   - D) `class ClassB -> ClassA:`\n",
    "\n",
    "Please put a cross like this (X) side to your choice.\n"
   ]
  },
  {
   "cell_type": "markdown",
   "metadata": {
    "id": "fDNfUo5uMVUd"
   },
   "source": [
    "# 6 Libraries\n",
    "\n",
    "Libraries in Python extend the language's core functionality, offering tools and functions for a wide range of applications, from mathematical operations to data visualization. Typically development environmnets like Google Colab or Conda come with a number of libraries pre-installed. However, if you need to install them, you can use pip:\n",
    "\n",
    "```\n",
    "pip install numpy matplotlib\n",
    "```\n",
    "\n",
    "There are three Python libraries that will be intensively used throughout this book:\n",
    "\n",
    "<img src=\"./images/numpy_logo.png\" width=\"300\" align=\"left\"/>\n",
    "<img src=\"./images/scipy_logo.png\" width=\"300\"/>\n",
    "<img src=\"./images/matplotlib_logo.png\" width=\"300\"/>\n",
    "\n",
    "- **NumPy** adds support for multi-dimensional arrays and matrices, along with a large collection of high-level mathematical functions to operate on these arrays. It is written in C.\n",
    "- **Scipy** builds upon NumPy and adds extra functionalities (statistics, linear algebra, etc.).\n",
    "- **matplotlib** is a library providing multiple data visualization options.\n"
   ]
  },
  {
   "cell_type": "markdown",
   "metadata": {},
   "source": [
    "## 6.1 Numpy and Scipy\n",
    "\n",
    "For the creation of arrays and matrices, we'll use Numpy [(docs here)](https://docs.scipy.org/doc/numpy/reference/) and some functions from Scipy [(docs here)](https://docs.scipy.org/doc/scipy/reference/)."
   ]
  },
  {
   "cell_type": "code",
   "execution_count": 2,
   "metadata": {},
   "outputs": [],
   "source": [
    "import numpy as np # Import library"
   ]
  },
  {
   "cell_type": "markdown",
   "metadata": {},
   "source": [
    "- **Array creation**: In the code, we'll always use numpy arrays(`np.ndarray` class) created by:\n",
    "\n",
    "`np.array([...])`: For normal array creation    "
   ]
  },
  {
   "cell_type": "code",
   "execution_count": 3,
   "metadata": {},
   "outputs": [
    {
     "name": "stdout",
     "output_type": "stream",
     "text": [
      "Identity matrix: \n",
      " [[1 0 0]\n",
      " [0 1 0]\n",
      " [0 0 1]]\n"
     ]
    }
   ],
   "source": [
    "identity = np.array([[1,0,0],[0,1,0],[0,0,1]])\n",
    "print(\"Identity matrix: \\n\", identity)"
   ]
  },
  {
   "cell_type": "markdown",
   "metadata": {},
   "source": [
    "`np.vstack([...])` and `np.hstack([...])`: For vertical and horizontal concatenation respectively.    "
   ]
  },
  {
   "cell_type": "code",
   "execution_count": null,
   "metadata": {},
   "outputs": [],
   "source": [
    "print (\"Vertical array: \\n\", np.vstack([3,4,5]))\n",
    "print (\"Horizontal array: \\n\", np.hstack([3,4,5]))"
   ]
  },
  {
   "cell_type": "markdown",
   "metadata": {},
   "source": [
    "`np.diag([...])`: To create a diagonal matrix.    "
   ]
  },
  {
   "cell_type": "code",
   "execution_count": null,
   "metadata": {
    "scrolled": true
   },
   "outputs": [],
   "source": [
    "print (\"Diagonal matrix: \\n\", np.diag([3,4,5]))"
   ]
  },
  {
   "cell_type": "markdown",
   "metadata": {},
   "source": [
    "- **Matrix operations**: There exist another class called `np.matrix` that eases some operations: inverse, transpose,... However, we will not use it in our code as it is marked for future deprecation. Instead you may use the following functions:\n",
    "    - `scipy.linalg.inv()`: For the **inverse** of a matrix.\n",
    "    - If we have a ndarray called `A` we can use `A.T` for the **transpose**. In the case A is a flat ndarray and we want a vertical vector `np.vstack(A)` may be used, as `A.T` will not return our expected output."
   ]
  },
  {
   "cell_type": "code",
   "execution_count": null,
   "metadata": {},
   "outputs": [],
   "source": [
    "A = np.array([[1, 2],[3,4]])\n",
    "print('A: \\n',A)\n",
    "print('A.T: \\n:',A.T)\n",
    "b = np.array([1,2,3])\n",
    "print('b: \\n',b)\n",
    "print('b.T: \\n',b.T)\n",
    "print('np.vstack(b): \\n',np.vstack(b))"
   ]
  },
  {
   "cell_type": "markdown",
   "metadata": {
    "tags": []
   },
   "source": [
    "For **matrix multiplication** the `@` operator is defined on ndarrays as such. Use: `A@B`. The `*` operator with matrices just returns an element-wise product:"
   ]
  },
  {
   "cell_type": "code",
   "execution_count": null,
   "metadata": {
    "tags": []
   },
   "outputs": [],
   "source": [
    "A = np.array([[1, 1],[2,1]])\n",
    "print('A: \\n',A)\n",
    "B = np.array([[2, 1],[1,1]])\n",
    "print('B: \\n',B)\n",
    "print ('A@B: \\n',A@B)\n",
    "print ('A*B: \\n',A*B)"
   ]
  },
  {
   "cell_type": "markdown",
   "metadata": {},
   "source": [
    "- **Random value generation**: we will use in most the module `numpy.random` . But we may also use the `scipy.stats` module in some cases. There are few differences between the two."
   ]
  },
  {
   "cell_type": "markdown",
   "metadata": {},
   "source": [
    "## 6.2 Matplotlib\n",
    "\n",
    "We use Matplotlib, more explicitely the `matplotlib.pyplot` module [(docs here)](https://matplotlib.org/api/_as_gen/matplotlib.pyplot.html) for plotting the different figures along the practices. In some cases we will provide you with the code to plot, in others you'll have to do it yourself.\n",
    "\n",
    "If you see some wierd code such as `%matplotlib widget`, `%matplotlib inline` or `matplotlib.use('TkAgg')` you shouldn't care much about it. The first two are jupyter magic commands [(more info here)](https://ipython.readthedocs.io/en/stable/interactive/magics.html) to select which plotting backend to use."
   ]
  },
  {
   "cell_type": "code",
   "execution_count": 5,
   "metadata": {},
   "outputs": [],
   "source": [
    "import matplotlib.pyplot as plt"
   ]
  },
  {
   "cell_type": "markdown",
   "metadata": {},
   "source": [
    "Some of the more relevant functions are:\n",
    "\n",
    "- `plt.figure()` or `plt.subplots()` to create a new plot.\n",
    "- `plt.plot()`: Catch-all plotting function. Depending on the parameters it can be used for drawing lines or scatter plots. It returns a plot handler that can be used to erase the drawing using `h.pop(0).remove()`."
   ]
  },
  {
   "cell_type": "code",
   "execution_count": 6,
   "metadata": {},
   "outputs": [
    {
     "data": {
      "text/plain": [
       "[<matplotlib.lines.Line2D at 0x243a87b2e90>]"
      ]
     },
     "execution_count": 6,
     "metadata": {},
     "output_type": "execute_result"
    },
    {
     "data": {
      "image/png": "[encoded data removed]",
      "text/plain": [
       "<Figure size 640x480 with 1 Axes>"
      ]
     },
     "metadata": {},
     "output_type": "display_data"
    }
   ],
   "source": [
    "x = np.array([2,3,5,6])\n",
    "y = np.array([1,1,4,5])\n",
    "plt.plot(x, y, color='green', marker='o', linestyle='dashed',linewidth=2, markersize=12)"
   ]
  },
  {
   "cell_type": "markdown",
   "metadata": {},
   "source": [
    "- `plt.hist()`: Helpful for creating histograms. Try the following code playing with the `num_bins` parameter."
   ]
  },
  {
   "cell_type": "code",
   "execution_count": null,
   "metadata": {},
   "outputs": [],
   "source": [
    "x = [21,22,23,4,5,6,77,8,9,10,31,32,33,34,35,36,37,18,49,50,100]\n",
    "num_bins = 5\n",
    "n, bins, patches = plt.hist(x, num_bins, facecolor='blue', alpha=0.5)"
   ]
  },
  {
   "cell_type": "markdown",
   "metadata": {
    "id": "xXRaYqjfMne3"
   },
   "source": [
    "In the example below, we use NumPy to create arrays of x and y coordinates representing the path of a robot. Matplotlib is then used to plot these coordinates on a 2D graph. This demonstrates how you can visualize the movement or path of a robot in a given space, providing valuable insights into its behavior and efficiency."
   ]
  },
  {
   "cell_type": "code",
   "execution_count": null,
   "metadata": {
    "id": "EpZuQpg2MzO-"
   },
   "outputs": [],
   "source": [
    "# Importing necessary libraries\n",
    "import numpy as np\n",
    "import matplotlib.pyplot as plt\n",
    "\n",
    "# Sample data: robot's path coordinates\n",
    "x_coordinates = np.array([0, 1, 2, 3, 4, 5])\n",
    "y_coordinates = np.array([0, 1, 4, 9, 16, 25])\n",
    "\n",
    "# Plotting the path\n",
    "plt.figure(figsize=(10, 6))\n",
    "plt.plot(x_coordinates, y_coordinates, marker='o', linestyle='-', color='b')\n",
    "plt.title('Robot Path')\n",
    "plt.xlabel('X Coordinate')\n",
    "plt.ylabel('Y Coordinate')\n",
    "plt.grid(True)\n",
    "plt.show()"
   ]
  },
  {
   "cell_type": "markdown",
   "metadata": {
    "id": "GDNfk9I9N0-l"
   },
   "source": [
    "## **<span style=\"color:green\"><b><i>ASSIGNMENT 6: Analyzing and Visualizing Sensor Data</i></b></span>**\n",
    "\n",
    "In this exercise, you will simulate collecting sensor data from a robot navigating an environment. You will use NumPy to generate the data and Matplotlib to visualize it, mimicking a real-world scenario where a robot might be collecting data about its surroundings over time.\n",
    "\n",
    "**Task:**\n",
    "\n",
    "1. Generate a NumPy array of random data that represents the distance sensor readings of a robot over a period of 100 time steps. Take a look at `np.arange()` for that.\n",
    "2. Plot this data using Matplotlib, creating a graph that shows the distance readings over time.\n",
    "3. Customize your plot with a title, axis labels, and any other features you think will make the graph more informative or visually appealing.\n",
    "\n",
    "**Instructions:**\n",
    "\n",
    "- Use `np.random.rand(100)` to generate the sensor readings. This function creates an array of 100 random numbers between 0 and 1, which can simulate distance readings in some unit of measurement.\n",
    "- Plot the sensor readings on the y-axis and the time steps (0 to 99) on the x-axis.\n",
    "- Ensure your plot is clearly labeled and easy to understand at a glance.\n"
   ]
  },
  {
   "cell_type": "code",
   "execution_count": null,
   "metadata": {
    "id": "VxUXrX3xFeN9"
   },
   "outputs": [],
   "source": [
    "# Your code here!"
   ]
  },
  {
   "cell_type": "markdown",
   "metadata": {
    "id": "70zZfRR9Fa3P"
   },
   "source": [
    "## Quiz 6: External Libraries\n",
    "\n",
    "1. Which command is used to install the NumPy library using pip?\n",
    "   - A) `pip install numpy`\n",
    "   - B) `pip get numpy`\n",
    "   - C) `install numpy`\n",
    "   - D) `npm install numpy`\n",
    "\n",
    "2. To plot a graph in Python, which library provides the `plot` function?\n",
    "   - A) `NumPy`\n",
    "   - B) `Pandas`\n",
    "   - C) `Matplotlib`\n",
    "   - D) `Seaborn`\n",
    "\n",
    "Please put a cross like this (X) side to your choice.\n"
   ]
  }
 ],
 "metadata": {
  "colab": {
   "provenance": [],
   "toc_visible": true
  },
  "kernelspec": {
   "display_name": "Python 3 (ipykernel)",
   "language": "python",
   "name": "python3"
  },
  "language_info": {
   "codemirror_mode": {
    "name": "ipython",
    "version": 3
   },
   "file_extension": ".py",
   "mimetype": "text/x-python",
   "name": "python",
   "nbconvert_exporter": "python",
   "pygments_lexer": "ipython3",
   "version": "3.12.0"
  }
 },
 "nbformat": 4,
 "nbformat_minor": 4
}
